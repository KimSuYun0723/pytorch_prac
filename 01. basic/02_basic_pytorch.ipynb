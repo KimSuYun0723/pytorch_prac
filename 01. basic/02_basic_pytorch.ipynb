{
 "cells": [
  {
   "cell_type": "markdown",
   "metadata": {},
   "source": [
    "# 2.1 이 장의 주요 개념\n",
    "- 2.2 텐서\n",
    "- 2.3 자동 미분 기능 + 계산 그래프\n",
    "- 2.4 2차 함수\n",
    "- 2.5 시그모이드 함수"
   ]
  },
  {
   "cell_type": "markdown",
   "metadata": {},
   "source": [
    "# 2.2 텐서"
   ]
  },
  {
   "cell_type": "code",
   "execution_count": null,
   "metadata": {},
   "outputs": [],
   "source": []
  }
 ],
 "metadata": {
  "language_info": {
   "name": "python"
  }
 },
 "nbformat": 4,
 "nbformat_minor": 2
}
