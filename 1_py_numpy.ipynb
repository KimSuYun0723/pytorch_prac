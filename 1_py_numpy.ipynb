{
 "cells": [
  {
   "cell_type": "code",
   "execution_count": 7,
   "metadata": {},
   "outputs": [],
   "source": [
    "import pandas as pd\n",
    "import numpy as np\n",
    "import matplotlib.pyplot as plt\n",
    "\n",
    "#데이터 프레임 표시 함수\n",
    "from IPython.display import display"
   ]
  },
  {
   "cell_type": "code",
   "execution_count": 21,
   "metadata": {},
   "outputs": [],
   "source": [
    "#필요하지 않은 warning 출력하지 않기\n",
    "import warnings\n",
    "warnings.filterwarnings('ignore')"
   ]
  },
  {
   "cell_type": "code",
   "execution_count": 22,
   "metadata": {},
   "outputs": [
    {
     "name": "stdout",
     "output_type": "stream",
     "text": [
      "str1 :  a1 = 0.14285714285714285  a2 = 123\n",
      "str2 :  a1 = 0.1429  a2 = 0123\n",
      "str3 :  a2 = 1.4286e-01  a2 = 0x7b\n"
     ]
    }
   ],
   "source": [
    "a1 = 1/7\n",
    "a2 = 123\n",
    "\n",
    "str1 = f\"a1 = {a1}  a2 = {a2}\"\n",
    "print(\"str1 : \", str1)\n",
    "\n",
    "str2 = f\"a1 = {a1:.4f}  a2 = {a2:04}\"\n",
    "print(\"str2 : \", str2)\n",
    "\n",
    "str3 = f\"a2 = {a1:.04e}  a2 = {a2:#x}\"\n",
    "print(\"str3 : \", str3)"
   ]
  },
  {
   "cell_type": "code",
   "execution_count": 23,
   "metadata": {},
   "outputs": [],
   "source": [
    "#Library Import\n",
    "import numpy as np\n",
    "\n",
    "#넘파이 부동소수점 자리수 표시\n",
    "np.set_printoptions(suppress=True, precision=5) #소수점 이하 다섯자리"
   ]
  },
  {
   "cell_type": "code",
   "execution_count": 9,
   "metadata": {},
   "outputs": [
    {
     "name": "stdout",
     "output_type": "stream",
     "text": [
      "[1 2 3 4 5 6 7]\n",
      "(7,)\n",
      "7\n"
     ]
    }
   ],
   "source": [
    "#array 함수\n",
    "n1 = np.array([1,2,3,4,5,6,7])\n",
    "\n",
    "print(n1)\n",
    "print(n1.shape) #(7, ) --> 1요소 튜플\n",
    "print(len(n1))"
   ]
  },
  {
   "cell_type": "code",
   "execution_count": 12,
   "metadata": {},
   "outputs": [
    {
     "name": "stdout",
     "output_type": "stream",
     "text": [
      "[[ 1  2  3]\n",
      " [ 4  5  6]\n",
      " [ 7  8  9]\n",
      " [10 11 12]]\n",
      "(4, 3)\n",
      "4\n"
     ]
    }
   ],
   "source": [
    "n2 = np.array([\n",
    "    [1,2,3],\n",
    "    [4,5,6],\n",
    "    [7,8,9],\n",
    "    [10,11,12]\n",
    "    ])\n",
    "print(n2)\n",
    "print(n2.shape)\n",
    "print(len(n2))"
   ]
  },
  {
   "cell_type": "code",
   "execution_count": 26,
   "metadata": {},
   "outputs": [
    {
     "name": "stdout",
     "output_type": "stream",
     "text": [
      "[0. 0. 0. 0. 0.]\n",
      "(5,)\n"
     ]
    }
   ],
   "source": [
    "n3 = np.zeros(5) #zero가 요소인 벡터 정의\n",
    "print(n3)\n",
    "print(n3.shape)"
   ]
  },
  {
   "cell_type": "code",
   "execution_count": 27,
   "metadata": {},
   "outputs": [
    {
     "name": "stdout",
     "output_type": "stream",
     "text": [
      "[[1. 1. 1.]\n",
      " [1. 1. 1.]]\n",
      "(2, 3)\n"
     ]
    }
   ],
   "source": [
    "n4 = np.ones((2,3)) #요소가 1인 행렬을 정의\n",
    "print(n4)\n",
    "print(n4.shape)"
   ]
  },
  {
   "cell_type": "code",
   "execution_count": 28,
   "metadata": {},
   "outputs": [
    {
     "name": "stdout",
     "output_type": "stream",
     "text": [
      "[[[-1.77966  0.94269 -1.11485 -1.17392]\n",
      "  [ 0.14806 -1.19348 -0.4984   1.23021]\n",
      "  [ 0.84177 -0.05368  1.41498  0.29284]]\n",
      "\n",
      " [[ 1.80511 -1.35865 -0.11109 -0.34477]\n",
      "  [ 0.99983  1.01509 -0.58768 -0.04855]\n",
      "  [ 0.31459  1.56981  0.58453  0.82394]]]\n",
      "(2, 3, 4)\n"
     ]
    }
   ],
   "source": [
    "n5 = np.random.randn(2,3,4) #2개 / (3,4) 행렬\n",
    "#N(0,1^2) 정규분포에 따라 생성된 난수로 행렬을 생성\n",
    "print(n5)\n",
    "print(n5.shape)"
   ]
  },
  {
   "cell_type": "code",
   "execution_count": 29,
   "metadata": {},
   "outputs": [
    {
     "name": "stdout",
     "output_type": "stream",
     "text": [
      "[-1.  -0.8 -0.6 -0.4 -0.2  0.   0.2  0.4  0.6  0.8  1. ]\n"
     ]
    }
   ],
   "source": [
    "n6 = np.linspace(-1,1,11) #시작점(최솟값), 마지막점(최댓값), 등간격으로 만들기 위한 점의 개수(10등분 == 11)\n",
    "print(n6)"
   ]
  },
  {
   "cell_type": "code",
   "execution_count": 30,
   "metadata": {},
   "outputs": [
    {
     "name": "stdout",
     "output_type": "stream",
     "text": [
      "[-1.  -0.8 -0.6 -0.4 -0.2 -0.   0.2  0.4  0.6  0.8  1. ]\n"
     ]
    }
   ],
   "source": [
    "n7 = np.arange(-1, 1.2, 0.2) #최솟값, 최댓값(미만), 간격\n",
    "print(n7)"
   ]
  },
  {
   "cell_type": "code",
   "execution_count": 31,
   "metadata": {},
   "outputs": [
    {
     "name": "stdout",
     "output_type": "stream",
     "text": [
      "[[ 1  2  3]\n",
      " [ 4  5  6]\n",
      " [ 7  8  9]\n",
      " [10 11 12]]\n",
      "[ 1  4  7 10]\n"
     ]
    }
   ],
   "source": [
    "print(n2)\n",
    "\n",
    "n8 = n2[:,0] #모든 열의 0번째 열 추출\n",
    "print(n8)"
   ]
  },
  {
   "cell_type": "code",
   "execution_count": 32,
   "metadata": {},
   "outputs": [
    {
     "name": "stdout",
     "output_type": "stream",
     "text": [
      "[[ 4  5  6]\n",
      " [10 11 12]]\n"
     ]
    }
   ],
   "source": [
    "n2_index = np.array([False, True, False, True]) #1,3번째 행을 추출\n",
    "n9 = n2[n2_index]\n",
    "print(n9)"
   ]
  },
  {
   "cell_type": "code",
   "execution_count": 34,
   "metadata": {},
   "outputs": [
    {
     "name": "stdout",
     "output_type": "stream",
     "text": [
      "[ 0  1  2  3  4  5  6  7  8  9 10 11 12 13 14 15 16 17 18 19 20 21 22 23]\n"
     ]
    }
   ],
   "source": [
    "n10 = np.array(range(24)) #미만\n",
    "print(n10)"
   ]
  },
  {
   "cell_type": "code",
   "execution_count": 35,
   "metadata": {},
   "outputs": [
    {
     "name": "stdout",
     "output_type": "stream",
     "text": [
      "[[ 0  1  2  3  4  5  6  7]\n",
      " [ 8  9 10 11 12 13 14 15]\n",
      " [16 17 18 19 20 21 22 23]]\n"
     ]
    }
   ],
   "source": [
    "n11 = n10.reshape(3,8) #3x8 2차원 배열로 변경 (행렬 아니고 배열)\n",
    "print(n11)"
   ]
  },
  {
   "cell_type": "code",
   "execution_count": 39,
   "metadata": {},
   "outputs": [
    {
     "name": "stdout",
     "output_type": "stream",
     "text": [
      "[[[ 0  1  2  3]\n",
      "  [ 4  5  6  7]\n",
      "  [ 8  9 10 11]]\n",
      "\n",
      " [[12 13 14 15]\n",
      "  [16 17 18 19]\n",
      "  [20 21 22 23]]]\n",
      "(2, 3, 4)\n"
     ]
    }
   ],
   "source": [
    "n12 = n10.reshape(2,-1,4) #인수 한 곳을 -1로 설정 --> -1에 위치할 값을 자동으로 계산\n",
    "print(n12)\n",
    "print(n12.shape)"
   ]
  },
  {
   "cell_type": "code",
   "execution_count": 40,
   "metadata": {},
   "outputs": [
    {
     "name": "stdout",
     "output_type": "stream",
     "text": [
      "(24,)\n",
      "(1, 24)\n"
     ]
    }
   ],
   "source": [
    "print(n10.shape)\n",
    "n13 = n10.reshape(1,-1)\n",
    "print(n13.shape)"
   ]
  },
  {
   "cell_type": "code",
   "execution_count": 41,
   "metadata": {},
   "outputs": [
    {
     "name": "stdout",
     "output_type": "stream",
     "text": [
      "[[ 1  2  3]\n",
      " [ 4  5  6]\n",
      " [ 7  8  9]\n",
      " [10 11 12]]\n",
      "[[ 1  4  7 10]\n",
      " [ 2  5  8 11]\n",
      " [ 3  6  9 12]]\n"
     ]
    }
   ],
   "source": [
    "print(n2)\n",
    "\n",
    "n14 = n2.T #축 교체\n",
    "print(n14)"
   ]
  },
  {
   "cell_type": "code",
   "execution_count": 42,
   "metadata": {},
   "outputs": [
    {
     "name": "stdout",
     "output_type": "stream",
     "text": [
      "[[[ 0  1  2  3]\n",
      "  [ 4  5  6  7]\n",
      "  [ 8  9 10 11]]\n",
      "\n",
      " [[12 13 14 15]\n",
      "  [16 17 18 19]\n",
      "  [20 21 22 23]]]\n",
      "(2, 3, 4)\n",
      "[[[ 0 12]\n",
      "  [ 1 13]\n",
      "  [ 2 14]\n",
      "  [ 3 15]]\n",
      "\n",
      " [[ 4 16]\n",
      "  [ 5 17]\n",
      "  [ 6 18]\n",
      "  [ 7 19]]\n",
      "\n",
      " [[ 8 20]\n",
      "  [ 9 21]\n",
      "  [10 22]\n",
      "  [11 23]]]\n",
      "(3, 4, 2)\n"
     ]
    }
   ],
   "source": [
    "print(n12) #3차원 배열\n",
    "print(n12.shape)\n",
    "\n",
    "n14 = np.transpose(n12, (1,2,0)) #3차원 배열에 대해 축 순번을 (1,2,0)으로 교체\n",
    "\n",
    "print(n14)\n",
    "print(n14.shape)"
   ]
  },
  {
   "cell_type": "code",
   "execution_count": 6,
   "metadata": {},
   "outputs": [
    {
     "name": "stdout",
     "output_type": "stream",
     "text": [
      "[[1 2 3]\n",
      " [4 5 6]]\n",
      "[[ 7  8  9]\n",
      " [10 11 12]]\n",
      "[14 15 16]\n",
      "[17 18]\n"
     ]
    }
   ],
   "source": [
    "#변수로 사용할 배열\n",
    "\n",
    "#2열 3열의 행렬\n",
    "n16 = np.array(range(1,7)).reshape(2,3)\n",
    "n17 = np.array(range(7,13)).reshape(2,3)\n",
    "\n",
    "#3요소 벡터\n",
    "n18 = np.array(range(14,17))\n",
    "\n",
    "#2요소 벡터\n",
    "n19 = np.array(range(17,19))\n",
    "print(n16)\n",
    "print(n17)\n",
    "print(n18)\n",
    "print(n19)"
   ]
  },
  {
   "cell_type": "code",
   "execution_count": 8,
   "metadata": {},
   "outputs": [
    {
     "name": "stdout",
     "output_type": "stream",
     "text": [
      "[[ 1  2  3]\n",
      " [ 4  5  6]\n",
      " [ 7  8  9]\n",
      " [10 11 12]]\n",
      "[[ 1  2  3]\n",
      " [ 4  5  6]\n",
      " [14 15 16]]\n"
     ]
    }
   ],
   "source": [
    "#행렬과 행렬의 세로 연결\n",
    "n20 = np.vstack([n16,n17])\n",
    "print(n20)\n",
    "\n",
    "#행렬과 벡터의 세로 연결\n",
    "n21 = np.vstack([n16, n18])\n",
    "\n",
    "print(n21)"
   ]
  },
  {
   "cell_type": "code",
   "execution_count": 11,
   "metadata": {},
   "outputs": [
    {
     "name": "stdout",
     "output_type": "stream",
     "text": [
      "[[ 1  2  3  7  8  9]\n",
      " [ 4  5  6 10 11 12]]\n",
      "[[17]\n",
      " [18]]\n",
      "[[ 1  2  3 17]\n",
      " [ 4  5  6 18]]\n"
     ]
    }
   ],
   "source": [
    "#행렬과 행렬의 가로 연결\n",
    "n22 = np.hstack([n16,n17])\n",
    "print(n22)\n",
    "\n",
    "#행렬과 벡터의 가로 연결\n",
    "#벡터의 shape을 (N,1) 형태로 변형\n",
    "n23 = n19.reshape(-1,1)\n",
    "print(n23)\n",
    "\n",
    "n24 = np.hstack([n16,n23])\n",
    "print(n24)"
   ]
  },
  {
   "cell_type": "code",
   "execution_count": 12,
   "metadata": {},
   "outputs": [
    {
     "name": "stdout",
     "output_type": "stream",
     "text": [
      "[[1 2 3]\n",
      " [4 5 6]]\n",
      "[[ 7  8  9]\n",
      " [10 11 12]]\n",
      "[[ 8 10 12]\n",
      " [14 16 18]]\n"
     ]
    }
   ],
   "source": [
    "#넘파이는 루피 처리 없이도 벡터/배열 끼리 계산 가능\n",
    "print(n16)\n",
    "print(n17)\n",
    "n25 = n16 + n17\n",
    "print(n25)"
   ]
  },
  {
   "cell_type": "code",
   "execution_count": 15,
   "metadata": {},
   "outputs": [
    {
     "name": "stdout",
     "output_type": "stream",
     "text": [
      "[1 2 3 4 5 6 7]\n",
      "[-3 -2 -1  0  1  2  3]\n"
     ]
    }
   ],
   "source": [
    "#브로드캐스트 기능\n",
    "print(n1)\n",
    "\n",
    "n22 = n1 - 4\n",
    "\n",
    "print(n22)"
   ]
  },
  {
   "cell_type": "code",
   "execution_count": 16,
   "metadata": {},
   "outputs": [
    {
     "name": "stdout",
     "output_type": "stream",
     "text": [
      "[0.         0.26179939 0.52359878 0.78539816 1.04719755 1.30899694\n",
      " 1.57079633 1.83259571 2.0943951  2.35619449 2.61799388 2.87979327\n",
      " 3.14159265 3.40339204 3.66519143 3.92699082 4.1887902  4.45058959\n",
      " 4.71238898 4.97418837 5.23598776 5.49778714 5.75958653 6.02138592\n",
      " 6.28318531]\n",
      "[ 0.00000000e+00  2.58819045e-01  5.00000000e-01  7.07106781e-01\n",
      "  8.66025404e-01  9.65925826e-01  1.00000000e+00  9.65925826e-01\n",
      "  8.66025404e-01  7.07106781e-01  5.00000000e-01  2.58819045e-01\n",
      "  1.22464680e-16 -2.58819045e-01 -5.00000000e-01 -7.07106781e-01\n",
      " -8.66025404e-01 -9.65925826e-01 -1.00000000e+00 -9.65925826e-01\n",
      " -8.66025404e-01 -7.07106781e-01 -5.00000000e-01 -2.58819045e-01\n",
      " -2.44929360e-16]\n"
     ]
    }
   ],
   "source": [
    "#유니버셜 함수\n",
    "x = np.linspace(0, 2*np.pi, 25) #구간 [0, 2pi]를 24등분하는 계산\n",
    "print(x)\n",
    "\n",
    "# y = sin(x) 계산\n",
    "y = np.sin(x)\n",
    "print(y)"
   ]
  },
  {
   "cell_type": "code",
   "execution_count": 18,
   "metadata": {},
   "outputs": [
    {
     "name": "stdout",
     "output_type": "stream",
     "text": [
      "원본 변수 : [1 2 3 4 5 6 7]\n",
      "합 : 28\n",
      "평균 : 4.0\n",
      "최대값 : 7\n",
      "최소값 : 1\n"
     ]
    }
   ],
   "source": [
    "#집계 함수\n",
    "print(f\"원본 변수 : {n1}\")\n",
    "\n",
    "#sum\n",
    "n23 = np.sum(n1)\n",
    "print(f\"합 : {n23}\")\n",
    "\n",
    "#mean\n",
    "n24 = np.mean(n1)\n",
    "print(f\"평균 : {n24}\")\n",
    "\n",
    "#max\n",
    "n25 = np.max(n1)\n",
    "print(f\"최대값 : {n25}\")\n",
    "\n",
    "#min - 이렇게도 가능함\n",
    "n26 = n1.min()\n",
    "print(f\"최소값 : {n26}\")"
   ]
  },
  {
   "cell_type": "code",
   "execution_count": 4,
   "metadata": {},
   "outputs": [
    {
     "name": "stdout",
     "output_type": "stream",
     "text": [
      "[ True  True  True  True  True  True  True False  True  True]\n",
      "9\n",
      "정답수 : 9, 전체수 : 10, 정확도 : 0.900\n"
     ]
    }
   ],
   "source": [
    "#변수 비교해서 일치하는 개수로 정확도 게산\n",
    "#2개 넘파이 배열 준비\n",
    "#정답\n",
    "yt = np.array([1,1,0,1,0,1,1,0,1,1])\n",
    "\n",
    "#예측값\n",
    "yp = np.array([1,1,0,1,0,1,1,1,1,1])\n",
    "\n",
    "matched = (yt == yp)\n",
    "print(matched)\n",
    "\n",
    "correct = matched.sum()\n",
    "\n",
    "total = len(matched)\n",
    "\n",
    "accuracy = correct / total\n",
    "print(f\"정답수 : {correct}, 전체수 : {total}, 정확도 : {accuracy:.3f}\")"
   ]
  },
  {
   "cell_type": "code",
   "execution_count": 10,
   "metadata": {},
   "outputs": [
    {
     "name": "stdout",
     "output_type": "stream",
     "text": [
      "[1 2 3 4 5 6 7]\n",
      "7 1\n",
      "[0.         0.16666667 0.33333333 0.5        0.66666667 0.83333333\n",
      " 1.        ]\n"
     ]
    }
   ],
   "source": [
    "#모든 값을 [0,1] 범위에 포함하도록 변환\n",
    "print(n1)\n",
    "\n",
    "n1_max = n1.max()\n",
    "n1_min = n1.min()\n",
    "print(n1_max, n1_min)\n",
    "\n",
    "#변환(브로드캐스트)\n",
    "n27 = (n1 - n1_min) / (n1_max - n1_min)\n",
    "print(n27)"
   ]
  },
  {
   "cell_type": "code",
   "execution_count": 13,
   "metadata": {},
   "outputs": [
    {
     "name": "stdout",
     "output_type": "stream",
     "text": [
      "[[ 1  2  3]\n",
      " [ 4  5  6]\n",
      " [ 7  8  9]\n",
      " [10 11 12]]\n",
      "[False  True False  True]\n"
     ]
    }
   ],
   "source": [
    "print(n2)\n",
    "\n",
    "n28 = n2[:,0] %2 ==0 #원본 행렬의 0번째 열의 값이 짝수\n",
    "print(n28)"
   ]
  },
  {
   "cell_type": "code",
   "execution_count": 14,
   "metadata": {},
   "outputs": [
    {
     "name": "stdout",
     "output_type": "stream",
     "text": [
      "[[ 4  5  6]\n",
      " [10 11 12]]\n"
     ]
    }
   ],
   "source": [
    "#n28이 True인 행을 추출\n",
    "n29 = n2[n28]\n",
    "print(n29)"
   ]
  }
 ],
 "metadata": {
  "kernelspec": {
   "display_name": "base",
   "language": "python",
   "name": "python3"
  },
  "language_info": {
   "codemirror_mode": {
    "name": "ipython",
    "version": 3
   },
   "file_extension": ".py",
   "mimetype": "text/x-python",
   "name": "python",
   "nbconvert_exporter": "python",
   "pygments_lexer": "ipython3",
   "version": "3.11.5"
  }
 },
 "nbformat": 4,
 "nbformat_minor": 2
}
